{
 "cells": [
  {
   "cell_type": "code",
   "execution_count": null,
   "id": "c3c06a6c-30c7-483b-85d9-607c2cd75ae3",
   "metadata": {},
   "outputs": [],
   "source": []
  }
 ],
 "metadata": {
  "kernelspec": {
   "display_name": "",
   "name": ""
  },
  "language_info": {
   "name": ""
  }
 },
 "nbformat": 4,
 "nbformat_minor": 5
}
